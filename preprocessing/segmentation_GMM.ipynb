{
 "cells": [
  {
   "cell_type": "code",
   "execution_count": 3,
   "metadata": {
    "collapsed": false
   },
   "outputs": [],
   "source": [
    "import matplotlib.pyplot as plt\n",
    "%matplotlib inline\n",
    "import numpy as np\n",
    "import pandas as pd\n",
    "import cv2\n",
    "import math\n",
    "from sklearn import mixture\n",
    "from sklearn.utils import shuffle\n",
    "from skimage import measure\n",
    "from glob import glob\n",
    "import os\n",
    "from multiprocessing import Pool, cpu_count\n",
    "from functools import partial\n",
    "from subprocess import check_output\n",
    "\n",
    "train_idx = '../data_utils/train_idx.csv'\n",
    "val_idx = '../data_utils/val_idx.csv'\n",
    "test_idx = '../data_utils/test.csv'\n",
    "\n",
    "realative_path_list = []\n",
    "with open(train_idx, 'r') as csvfile:\n",
    "    for line in csvfile:\n",
    "        realative_path = line.split(',')[0]\n",
    "        realative_path_list.append(realative_path)\n",
    "with open(val_idx, 'r') as csvfile:\n",
    "    for line in csvfile:\n",
    "        realative_path = line.split(',')[0]\n",
    "        realative_path_list.append(realative_path)\n",
    "with open(test_idx, 'r') as csvfile:\n",
    "    for line in csvfile:\n",
    "        realative_path = line.split(',')[0]\n",
    "        realative_path_list.append(realative_path)\n",
    "\n"
   ]
  },
  {
   "cell_type": "code",
   "execution_count": 7,
   "metadata": {
    "collapsed": false
   },
   "outputs": [],
   "source": [
    "a = np.array([[1,1,1,2,2],[2,2,1,1,1],[1,2,1,2,2]])"
   ]
  },
  {
   "cell_type": "code",
   "execution_count": 8,
   "metadata": {
    "collapsed": true
   },
   "outputs": [],
   "source": [
    "b = np.zeros([3,5],'uint8')"
   ]
  },
  {
   "cell_type": "code",
   "execution_count": 10,
   "metadata": {
    "collapsed": false
   },
   "outputs": [],
   "source": [
    "b[a==2] =255"
   ]
  },
  {
   "cell_type": "code",
   "execution_count": 18,
   "metadata": {
    "collapsed": false
   },
   "outputs": [
    {
     "name": "stdout",
     "output_type": "stream",
     "text": [
      "(255, 192, 3)\n"
     ]
    }
   ],
   "source": [
    "save_path = '../data/yangyu_path_to_dataset/segmented/train/Type_1/1464.jpg'\n",
    "img = cv2.imread(save_path)\n",
    "print(img.shape)"
   ]
  },
  {
   "cell_type": "code",
   "execution_count": 15,
   "metadata": {
    "collapsed": true
   },
   "outputs": [],
   "source": [
    "os.makedirs(os.path.dirname(save_path))"
   ]
  },
  {
   "cell_type": "code",
   "execution_count": null,
   "metadata": {
    "collapsed": true
   },
   "outputs": [],
   "source": []
  }
 ],
 "metadata": {
  "kernelspec": {
   "display_name": "Python [Root]",
   "language": "python",
   "name": "Python [Root]"
  },
  "language_info": {
   "codemirror_mode": {
    "name": "ipython",
    "version": 2
   },
   "file_extension": ".py",
   "mimetype": "text/x-python",
   "name": "python",
   "nbconvert_exporter": "python",
   "pygments_lexer": "ipython2",
   "version": "2.7.12"
  }
 },
 "nbformat": 4,
 "nbformat_minor": 0
}
